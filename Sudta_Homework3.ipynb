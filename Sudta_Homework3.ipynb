{
 "cells": [
  {
   "cell_type": "markdown",
   "metadata": {},
   "source": [
    "# Jypyter Notebooks and Python Refresh Homework 3\n",
    "We are going to do the Python Refresh Homework in a juypyter Notebook. In this homework we will review the basic principles of python programming. You will work through a few questions and build some scripts. You will need the Bloom et al Dataset found in this repository. For each question add a cell to put your answer in either as a text cell or a code cell following the question.\n",
    "\n",
    "### Markdown\n",
    "Here is a [markdown refresh](https://programminghistorian.org/en/lessons/getting-started-with-markdown)\n",
    "\n",
    "### General concepts to refresh and lessons to review if you need them:\n",
    "\n",
    "Here is a nice [Python_Refresh](https://pythonforbiologists.com/introduction) that goes over the majority of the basic python commands.\n",
    "\n",
    "Remember these Primers from Last Semester\n",
    "\n",
    "[Python_Primer1](https://github.com/tparchman/BIOL792_course_site/blob/master/week6_pythonI/python_1_primer.md) \n",
    "\n",
    "[Lists_for_loops](https://github.com/tparchman/BIOL792_course_site/blob/master/week7_pythonII/python_2_primer.md)\n",
    "\n",
    "[Input_Output](https://github.com/tparchman/BIOL792_course_site/blob/master/week8_python3/python_3_primer.md)\n",
    "\n",
    "[Dictionaries](https://github.com/tparchman/BIOL792_course_site/blob/master/week11_python6/primer_python6.md)\n",
    "\n",
    "\n",
    "### Remember these Common commands as you work through this exercise\n",
    "\tdata types\n",
    "\tlists and dictionaries \n",
    "\tif while and for loops\n",
    "\treading files\n",
    "\n"
   ]
  },
  {
   "cell_type": "markdown",
   "metadata": {},
   "source": [
    "## Part I: Questions"
   ]
  },
  {
   "cell_type": "markdown",
   "metadata": {},
   "source": [
    "1.\tName one of the basic building blocks of programming and a small definition."
   ]
  },
  {
   "cell_type": "code",
   "execution_count": null,
   "metadata": {},
   "outputs": [],
   "source": [
    "Variable = A name that holds a value. A value can be a number, characte, or a series of characters. \n",
    "There are 4 types of variables: integer, floating point, boolen, and string. "
   ]
  },
  {
   "cell_type": "markdown",
   "metadata": {},
   "source": [
    "2.\tMatch the data type to the appropriate data\n",
    "    \n",
    "    **Data type:** string, integer, boolean, floating point\n",
    "    \n",
    "    **Data:** true, 123, 'I am a programmer', 34.63221\n"
   ]
  },
  {
   "cell_type": "code",
   "execution_count": null,
   "metadata": {},
   "outputs": [],
   "source": [
    "integer =123; floating point =34.63221; boolen = true; string = 'I am a programmer'"
   ]
  },
  {
   "cell_type": "markdown",
   "metadata": {},
   "source": [
    "3.\tWhat would I get if I did tried to add these to numbers together ```123``` and ```5```.\n",
    "\t\t\n",
    "\t\ta) if the numbers were formatted as strings\n",
    "\t\t\n",
    "\t\tb) if they were formatted as integers"
   ]
  },
  {
   "cell_type": "code",
   "execution_count": null,
   "metadata": {},
   "outputs": [],
   "source": [
    "a. You would get 1235 if the numbers were formatted as strings.\n",
    "b. You would get 128 if the numbers were formatted as integers."
   ]
  },
  {
   "cell_type": "markdown",
   "metadata": {},
   "source": [
    "4.\tLists, also called vectors, are one dimensional arrays and are a series of items. From the following list what would the question ```apple_list[3]``` return?  Remember we refer to items in a list by their position. Hint – remember how computers count.\n",
    "\t\t\n",
    "\t\t```apple_list=[‘banana’,’pear’,’kumquat’,’pomegranate’,’passion fruit’]```"
   ]
  },
  {
   "cell_type": "code",
   "execution_count": null,
   "metadata": {},
   "outputs": [],
   "source": [
    "pomegranate"
   ]
  },
  {
   "cell_type": "markdown",
   "metadata": {},
   "source": [
    "5.\tName a difference between lists and dictionaries?"
   ]
  },
  {
   "cell_type": "code",
   "execution_count": null,
   "metadata": {},
   "outputs": [],
   "source": [
    "Lists are one dimensional arrays while dictionaries are associative arrays that have both collections of names (keys) and associated values"
   ]
  },
  {
   "cell_type": "markdown",
   "metadata": {},
   "source": [
    "6.\tWhat would you get from this question from the following dictionary:  ```apple_dict[‘pear’]```\n",
    "\t\t\n",
    "\t\tfruit_dict = {}\n",
    "\t\tfruit_dict[‘apple’]=10\n",
    "\t\tfruit_dict[‘pear’] = 3\n",
    "\t\tfruit_dict[‘walnut’]=216\n"
   ]
  },
  {
   "cell_type": "code",
   "execution_count": null,
   "metadata": {},
   "outputs": [],
   "source": [
    "3"
   ]
  },
  {
   "cell_type": "markdown",
   "metadata": {},
   "source": [
    "7.\tIn python what does the function ```.replace()``` do?"
   ]
  },
  {
   "cell_type": "code",
   "execution_count": null,
   "metadata": {},
   "outputs": [],
   "source": [
    "The function .replace() replaces a specified character with another specified character."
   ]
  },
  {
   "cell_type": "markdown",
   "metadata": {},
   "source": [
    "8.\tHow do you print something in python?  For example write a print statement to print “hello world!”"
   ]
  },
  {
   "cell_type": "code",
   "execution_count": 2,
   "metadata": {},
   "outputs": [
    {
     "name": "stdout",
     "output_type": "stream",
     "text": [
      "hello world\n"
     ]
    }
   ],
   "source": [
    "Use a function print(). For example, print(\"hello world\") will give an output \"hello world\""
   ]
  },
  {
   "cell_type": "markdown",
   "metadata": {},
   "source": [
    "9.\tName one place you can go to get help with python?"
   ]
  },
  {
   "cell_type": "code",
   "execution_count": null,
   "metadata": {},
   "outputs": [],
   "source": [
    "help()"
   ]
  },
  {
   "cell_type": "markdown",
   "metadata": {},
   "source": [
    "10.\tWhat is an ```if``` statement and when would you use one?"
   ]
  },
  {
   "cell_type": "code",
   "execution_count": null,
   "metadata": {},
   "outputs": [],
   "source": [
    "An 'if' statement is a conditional statement where you have two answers: true and false. \n",
    "You would use the if statement when your want to do something down the lines but there are two different paths, \n",
    "and a selection of the path depends on the current condition.  "
   ]
  },
  {
   "cell_type": "markdown",
   "metadata": {},
   "source": [
    "11.\tFrom this list:  ```container_list = [‘can’,’jar’,’hat’]``` What would be returned from this: ```container_list[0:2]```.  Hint: Remember one number is inclusive and one exclusive."
   ]
  },
  {
   "cell_type": "code",
   "execution_count": 10,
   "metadata": {},
   "outputs": [
    {
     "data": {
      "text/plain": [
       "['can', 'jar']"
      ]
     },
     "execution_count": 10,
     "metadata": {},
     "output_type": "execute_result"
    }
   ],
   "source": [
    "container_list = [\"can\",\"jar\",\"hat\"]\n",
    "container_list[0:2]\n",
    "#This would return ['can','jar']."
   ]
  },
  {
   "cell_type": "markdown",
   "metadata": {},
   "source": [
    "12.\tWhat is the difference between an ```if``` statement and a ```while``` loop?\n"
   ]
  },
  {
   "cell_type": "code",
   "execution_count": 11,
   "metadata": {},
   "outputs": [
    {
     "ename": "SyntaxError",
     "evalue": "invalid syntax (<ipython-input-11-0fee03eb6155>, line 1)",
     "output_type": "error",
     "traceback": [
      "\u001b[0;36m  File \u001b[0;32m\"<ipython-input-11-0fee03eb6155>\"\u001b[0;36m, line \u001b[0;32m1\u001b[0m\n\u001b[0;31m    An 'if' statement is a one-time branching operation while a 'while' loop does things as long as a condition still valids.\u001b[0m\n\u001b[0m       ^\u001b[0m\n\u001b[0;31mSyntaxError\u001b[0m\u001b[0;31m:\u001b[0m invalid syntax\n"
     ]
    }
   ],
   "source": [
    "An 'if' statement is a one-time branching operation while a 'while' loop does things as long as a condition still is valid."
   ]
  },
  {
   "cell_type": "markdown",
   "metadata": {},
   "source": [
    "13.\tWhat would you get with the command ```fruit_dict.keys()```  after entering this dictionary:  \n",
    "\t\tfruit_dict = {}\n",
    "\t\tfruit_dict[‘apple’]=10\n",
    "\t\tfruit_dict[‘pear’] = 3\n",
    "\t\tfruit_dict[‘walnut’]=216"
   ]
  },
  {
   "cell_type": "code",
   "execution_count": 19,
   "metadata": {},
   "outputs": [
    {
     "data": {
      "text/plain": [
       "dict_keys(['apple', 'pear', 'walnut'])"
      ]
     },
     "execution_count": 19,
     "metadata": {},
     "output_type": "execute_result"
    }
   ],
   "source": [
    "fruit_dict = {} \n",
    "fruit_dict[\"apple\"]=10 \n",
    "fruit_dict[\"pear\"] = 3 \n",
    "fruit_dict[\"walnut\"]=216\n",
    "fruit_dict.keys()\n",
    "\n",
    "#fruit_dict.keys() would give an object that displays a list of all keys added in the dictionary \n",
    "#dict_keys(['apple', 'pear', 'walnut'])"
   ]
  },
  {
   "cell_type": "markdown",
   "metadata": {},
   "source": [
    "14.\tIn this statement: ```InFileName = open(InFileName, ‘r’)``` what does the ‘r’ indicate ?"
   ]
  },
  {
   "cell_type": "code",
   "execution_count": 20,
   "metadata": {},
   "outputs": [
    {
     "ename": "SyntaxError",
     "evalue": "invalid character in identifier (<ipython-input-20-d79b210fd993>, line 1)",
     "output_type": "error",
     "traceback": [
      "\u001b[0;36m  File \u001b[0;32m\"<ipython-input-20-d79b210fd993>\"\u001b[0;36m, line \u001b[0;32m1\u001b[0m\n\u001b[0;31m    InFileName = open(InFileName, ‘r’)\u001b[0m\n\u001b[0m                                    ^\u001b[0m\n\u001b[0;31mSyntaxError\u001b[0m\u001b[0;31m:\u001b[0m invalid character in identifier\n"
     ]
    }
   ],
   "source": [
    "The mode 'r' indicates how the file is opened for reading. "
   ]
  },
  {
   "cell_type": "markdown",
   "metadata": {},
   "source": [
    "15.\tWhat does this command do? ```Line.strip(‘\\n’)``` why would you use it when printing out lines to the screen?"
   ]
  },
  {
   "cell_type": "code",
   "execution_count": null,
   "metadata": {},
   "outputs": [],
   "source": [
    "This command \"Line.strip('\\n')\" removees line endings characters (\\n). \n",
    "I would use this command when printing our lines to the screen becease by removing the \\n characters, \n",
    "only actual characters in each line will be shown separately."
   ]
  },
  {
   "cell_type": "markdown",
   "metadata": {},
   "source": [
    "16.\tHow would you split a line from a csv file into a list"
   ]
  },
  {
   "cell_type": "code",
   "execution_count": null,
   "metadata": {},
   "outputs": [],
   "source": [
    "Line.split('\\t'). A .split() function splits a string to a list. \n",
    "Once the line is split, you can work on each element separately. '\\t' stands for a tab delimited text. \n",
    "That is, texts are separated by a tab."
   ]
  },
  {
   "cell_type": "markdown",
   "metadata": {},
   "source": [
    "## Part II:  Practice Scripts\n",
    "Below each question write the name of the script so I can find them. All scripts should be documented with in-line documentation."
   ]
  },
  {
   "cell_type": "markdown",
   "metadata": {},
   "source": [
    "1.\tCreate a documented python script that would \n",
    "\n",
    "\t\t**a.** take this number 112345678911234566 and count the number of 2s in the string and print out the number. \n",
    "\n",
    "\t\t**b.** take a sentence from user input, turn it all to lowercase letters and remove the spaces and count the length and print out the length.  You choose the sentence. \n"
   ]
  },
  {
   "cell_type": "code",
   "execution_count": 48,
   "metadata": {},
   "outputs": [
    {
     "name": "stdout",
     "output_type": "stream",
     "text": [
      "2\n",
      "i like data science\n",
      "ilikedatascience\n",
      "ilikedatascience\n",
      "16\n"
     ]
    }
   ],
   "source": [
    "#Homework3_practice_script1 \n",
    "#I use this junpyter input cell to test my python script. I will save the script to a separate file once it is finished.\n",
    "\n",
    "#a.\n",
    "#first, name the assigned number to something. Here, this number is a string\n",
    "number = \"112345678911234566\"\n",
    "#count the number of 2s in the string\n",
    "number.count('2')\n",
    "#print out the number of 2s in the string\n",
    "print(number.count('2'))\n",
    "\n",
    "#b. \n",
    "#create a sentence\n",
    "sentence = \"I like Data Science\"\n",
    "#turn the sentence to lowercase letters\n",
    "sentence.lower()\n",
    "#show result\n",
    "print(sentence.lower()) \n",
    "\n",
    "#remove spaces \n",
    "#usiing .strip() directly won't work because the entire sentence is one string. \n",
    "(sentence.lower()).strip()  \n",
    "#words in the sentence must be split and rejoined in order to remove the spac\n",
    "\"\".join(lower.split())\n",
    "print(\"\".join(lower.split()))\n",
    "#alternatively, we can replace space \" \" with no space \"\" to remove spaces\n",
    "sentence.lower().replace(\" \",\"\")\n",
    "print(sentence.lower().replace(\" \",\"\"))\n",
    "#count lentgh of the string\n",
    "len(sentence.lower().replace(\" \",\"\"))\n",
    "#print out the length\n",
    "print(len(sentence.lower().replace(\" \",\"\")))\n",
    "\n",
    "#done"
   ]
  },
  {
   "cell_type": "markdown",
   "metadata": {},
   "source": [
    "2.\tCreate a documented python script that will do the following two things. For each task, first write the pseudocode, comment out the pseudocode and beneath the pseudocode write the script.\n",
    "\n",
    "\t\t**a.** Create a list of numbers (any numbers you like). Then loop through the items in the list adding 1 to every number and print those numbers.\n",
    "\n",
    "\t\t**b.** Create a dictionary of animals and their sizes (make up whatever you want). Print out the keys of the dictionary. Make a list of all the animals and then write an if else statement to print out the animal name and the word “big” if the weight is over 20 grams and the word “small” if the weight is less than 20 grams. "
   ]
  },
  {
   "cell_type": "code",
   "execution_count": 51,
   "metadata": {},
   "outputs": [
    {
     "ename": "IndentationError",
     "evalue": "expected an indented block (<ipython-input-51-5c4c5382e5f3>, line 18)",
     "output_type": "error",
     "traceback": [
      "\u001b[0;36m  File \u001b[0;32m\"<ipython-input-51-5c4c5382e5f3>\"\u001b[0;36m, line \u001b[0;32m18\u001b[0m\n\u001b[0;31m    numlist = (1,2,3,4)\u001b[0m\n\u001b[0m    ^\u001b[0m\n\u001b[0;31mIndentationError\u001b[0m\u001b[0;31m:\u001b[0m expected an indented block\n"
     ]
    }
   ],
   "source": [
    "#Homework3_practice_script2 \n",
    "#I use this junpyter input cell to test my python script. I will save the script to a separate file once it is finished.\n",
    "\n",
    "#a. A loop\n",
    "#Pseudocode starts here\n",
    "#first, create a list of numbers\n",
    "numlist = c(1,2,3,4)\n",
    "\n",
    "#second, create a for loop to do a task\n",
    "#for each number in the list, do something\n",
    "for num in  numlist: \n",
    "    #do something here. In this case, we want to add 1 to every number\n",
    "    #and print those numbers\n",
    "#    end. Use an empty line to separate the loop from other lines of codes.\n",
    "#Pseudocode ends here\n",
    "\n",
    "#Actual script\n",
    "#create a list of numbers\n",
    "numlist = (1,2,3,4)\n",
    "#create a for loop to do a task\n",
    "for num in numlist:\n",
    "    print (num+1)\n",
    "\n",
    "    \n",
    "#b. A dictionary\n",
    "#Pseudocode starts here\n",
    "#first, create an empty dictionary\n",
    "dictname = {}\n",
    "#add pairs of keys (animal name) and values (size) to the dictionary \n",
    "dictname['key'] = value\n",
    "#keep adding info to the directory\n",
    "dictname['animal name1'] = size1\n",
    "dictname['animal name2'] = size2\n",
    ".\n",
    ".\n",
    ".\n",
    "#print out the keys of the dictionary using '.keys()' after the name of dictionary and a print() function\n",
    "print(dictname.keys())\n",
    "#make a list of all the animals by calling keys from the dictionary\n",
    "animallist = dictname.keys()\n",
    "#write an if-else statement to print \"big\" if size >=20 g and \"small\" if size < 20g inside a for loop\n",
    "#make a list of key and value from the directory and name it something so it can be called later in the loop\n",
    "animal_info <- dict_animal.items()\n",
    "#start the loop\n",
    "for key, value in animal info: \n",
    "    if logical_1: #size >20\n",
    "        #do something to that element on the list if the if statement is true\n",
    "        #print(key). Here's animal name is a key associated with a size stored in a directory\n",
    "        #print(\"big\")\n",
    "    elif logical_2: #size <20\n",
    "        #do something if logical_1 is false and logical_2 is true\n",
    "        #print(key) #key will return animal name associated with the value in the directory\n",
    "        #print(\"small\")\n",
    "    else: #size = 20\n",
    "        #do something here if all logicals above are false \n",
    "        #print(key)\n",
    "        #print(\"big\")  #here, I define anything larger or equal to 20 g \"big\"\n",
    "    \n",
    "#Pseudocode ends here\n",
    "\n",
    "\n",
    "#Actual script\n",
    "#create an empty directory\n",
    "dict_animal = {}\n",
    "#add keys and values to the directory\n",
    "dict_animal['caterpillar'] = 5\n",
    "dict_animal['ant'] = 1\n",
    "dict_animal['fish'] = 200\n",
    "dict_animal['bird'] = 300\n",
    "dict_animal['snake'] = 20\n",
    "dict_animal['frog'] = 15\n",
    "#show a list of animal names (keys)\n",
    "animal_list = list(dict_animal.keys())\n",
    "print(animal_list)\n",
    "#show a list of animal sizes in grams (values)\n",
    "size_list = list(dict_animal.values())\n",
    "#start a for loop by introducing a list of pairs of keys and values\n",
    "animal_info = dict_animal.items()\n",
    "# a for loop containing if-else conditional statements\n",
    "for key,value in animal_info:\n",
    "    if value >20: \n",
    "        print(key, \"big\")\n",
    "    elif size <20:\n",
    "        print(key, \"small\")    \n",
    "    else: \n",
    "        print(key, \"big\")\n",
    "    \n",
    "    "
   ]
  },
  {
   "cell_type": "code",
   "execution_count": 53,
   "metadata": {},
   "outputs": [
    {
     "name": "stdout",
     "output_type": "stream",
     "text": [
      "2\n",
      "3\n",
      "4\n",
      "5\n"
     ]
    }
   ],
   "source": [
    "#2.a\n",
    "#Actual script \n",
    "#create a list of numbers\n",
    "numlist = (1,2,3,4)\n",
    "#create a for loop to do a task\n",
    "for num in numlist:\n",
    "    print (num+1)\n",
    "    "
   ]
  },
  {
   "cell_type": "code",
   "execution_count": 61,
   "metadata": {},
   "outputs": [
    {
     "name": "stdout",
     "output_type": "stream",
     "text": [
      "['caterpillar', 'ant', 'fish', 'bird', 'snake', 'frog']\n",
      "caterpillar small\n",
      "ant small\n",
      "fish big\n",
      "bird big\n",
      "snake small\n",
      "frog small\n"
     ]
    }
   ],
   "source": [
    "#2.b\n",
    "#Actual script\n",
    "#create an empty directory\n",
    "dict_animal = {}\n",
    "#add keys and values to the directory\n",
    "dict_animal['caterpillar'] = 5\n",
    "dict_animal['ant'] = 1\n",
    "dict_animal['fish'] = 200\n",
    "dict_animal['bird'] = 300\n",
    "dict_animal['snake'] = 20\n",
    "dict_animal['frog'] = 15\n",
    "#show a list of animal names (keys)\n",
    "animal_list = list(dict_animal.keys())\n",
    "print(animal_list)\n",
    "#show a list of animal sizes in grams (values)\n",
    "size_list = list(dict_animal.values())\n",
    "#start a for loop by introducing a list of pairs of keys and values\n",
    "animal_info = dict_animal.items()\n",
    "# a for loop containing if-else conditional statements\n",
    "for key,value in animal_info:\n",
    "    if value >20: \n",
    "        print(key, \"big\")\n",
    "    elif size <20:\n",
    "        print(key, \"small\")    \n",
    "    else: \n",
    "        print(key, \"big\")\n",
    "    "
   ]
  },
  {
   "cell_type": "markdown",
   "metadata": {},
   "source": [
    "3.\tCreate a documented python script that will open up the file “Bloom_etal_2018_Reduced_Dataset”.  Read through the file and print out the taxon name and their diadromous status. Add up all of the log body sizes and print out the total log body size for all the individuals in the file.  "
   ]
  },
  {
   "cell_type": "code",
   "execution_count": 89,
   "metadata": {},
   "outputs": [
    {
     "name": "stdout",
     "output_type": "stream",
     "text": [
      "Alosa_alabamae diadromous\n",
      "Alosa_alosa diadromous\n",
      "Alosa_fallax diadromous\n",
      "Alosa_mediocris diadromous\n",
      "Alosa_pseudoharengus diadromous\n",
      "Alosa_sapidissima diadromous\n",
      "Amazonsprattus_scintilla non-diadromous\n",
      "Anchoa_chamensis non-diadromous\n",
      "Anchoa_cubana non-diadromous\n",
      "Anchoa_delicatissima non-diadromous\n",
      "Anchoa_lamprotaenia non-diadromous\n",
      "Anchoa_lyolepis non-diadromous\n",
      "Anchoa_parva non-diadromous\n",
      "Anchoa_schofieldi non-diadromous\n",
      "Anchovia_surinamensis non-diadromous\n",
      "Anchoviella_balboae non-diadromous\n",
      "Anchoviella_brevirostris non-diadromous\n",
      "Anchoviella_jamesi non-diadromous\n",
      "Anchoviella_lepidentostole diadromous\n",
      "Anchoviella_manamensis non-diadromous\n",
      "Anodontostoma_chacunda diadromous\n",
      "Cetengraulis_edentulus non-diadromous\n",
      "Chirocentrodon_bleekerianus non-diadromous\n",
      "Clupeichthys_perakensis non-diadromous\n",
      "Clupeoides_borneensis non-diadromous\n",
      "Coilia_nasus diadromous\n",
      "Ehirava_fluviatilis non-diadromous\n",
      "Encrasicholina_devisi non-diadromous\n",
      "Engraulis_eurystole non-diadromous\n",
      "Escualosa_thoracata non-diadromous\n",
      "Ethmalosa_fimbriata diadromous\n",
      "Gilchristella_aestuaria non-diadromous\n",
      "Hilsa_kelee diadromous\n",
      "Hyperlophus_vittatus non-diadromous\n",
      "Jenkinsia_lamprotaenia non-diadromous\n",
      "Microthrissa_congica non-diadromous\n",
      "Pellona_harroweri non-diadromous\n",
      "Pellonula_leonensis diadromous\n",
      "Pellonula_vorax diadromous\n",
      "Potamalosa_richmondia diadromous\n",
      "Ramnogaster_sp non-diadromous\n",
      "Rhinosardinia_bahiensis non-diadromous\n",
      "Sauvagella_robusta non-diadromous\n",
      "Sierrathrissa_leonensis non-diadromous\n",
      "Spratelloides_delicatulus non-diadromous\n",
      "Stolephorus_waitei non-diadromous\n",
      "Stolothrissa_tanganicae non-diadromous\n",
      "Sundasalanx_mekongensis non-diadromous\n",
      "Tenualosa_ilisha diadromous\n",
      "Thryssa_cf_dussumieri non-diadromous\n",
      "Total_log_body_size is 52.079318752000006\n"
     ]
    }
   ],
   "source": [
    "#Homework3_practice_script3\n",
    "\n",
    "#open and read the file \"loom_etal_2018_Reduced_Dataset\"\n",
    "INfile = open(\"Bloom_etal_2018_Reduced_Dataset.csv\",\"r\") #'r' indicades to read the file\n",
    "#keep track of line number\n",
    "LineNumber = 0\n",
    "#set total log body size to zero and add it up over time while reading each line in the loop\n",
    "Total_log_body_size = 0\n",
    "#read each line at a time\n",
    "#the following line remove a header in the csv file before each data line is read in the loop\n",
    "INfile.readline() \n",
    "for Line in INfile:\n",
    "    #remove a line ending in case there is one\n",
    "    Line = Line.strip('\\n')\n",
    "    #split each element by commas so we can work on taxa, logbodysize, trophic_position, and Reg separately\n",
    "    ElementList = Line.split(\",\") \n",
    "    #print taxa (position 0 on the list) and Reg (position 3 on the list). Taxa and reg are separated by a whitespace\n",
    "    print(ElementList[0]+ \" \" + ElementList[3])\n",
    "    #print(LineNumber, \":\", Line)\n",
    "    #add up all of the log body sizes (position 1 on the list). Float allows numbers with  decimals to be summed\n",
    "    Total_log_body_size += float(ElementList[1])\n",
    "    #line number helps keep track of the activity. However, I dicided not to print it out for simplicity of my result\n",
    "    LineNumber +=1  \n",
    "\n",
    "#print out the total body sizre for all the individuals in the file\n",
    "print(\"Total_log_body_size is\" + \" \" + str(Total_log_body_size))\n",
    "\n",
    "#Note: Columns from a .csv file can easily be extracted using pandas! \n",
    "#Howver, I think the purpose of this homwork is to use a simple script to solve a problem. "
   ]
  }
 ],
 "metadata": {
  "kernelspec": {
   "display_name": "Python 3",
   "language": "python",
   "name": "python3"
  },
  "language_info": {
   "codemirror_mode": {
    "name": "ipython",
    "version": 3
   },
   "file_extension": ".py",
   "mimetype": "text/x-python",
   "name": "python",
   "nbconvert_exporter": "python",
   "pygments_lexer": "ipython3",
   "version": "3.8.5"
  }
 },
 "nbformat": 4,
 "nbformat_minor": 4
}
